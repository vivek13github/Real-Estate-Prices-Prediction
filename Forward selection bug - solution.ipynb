{
 "cells": [
  {
   "cell_type": "code",
   "execution_count": 1,
   "metadata": {
    "colab": {},
    "colab_type": "code",
    "id": "TCnHqG92_Guv"
   },
   "outputs": [],
   "source": [
    "import numpy as np\n",
    "import time\n",
    "import pandas as pd\n",
    "import matplotlib.pyplot as plt\n",
    "plt.style.use(['seaborn-dark-palette','dark_background'])\n",
    "import warnings\n",
    "warnings.filterwarnings(action = 'ignore')"
   ]
  },
  {
   "cell_type": "code",
   "execution_count": 2,
   "metadata": {
    "colab": {
     "base_uri": "https://localhost:8080/",
     "height": 326
    },
    "colab_type": "code",
    "executionInfo": {
     "elapsed": 4522,
     "status": "ok",
     "timestamp": 1573107360293,
     "user": {
      "displayName": "Sharoon Saxena",
      "photoUrl": "https://lh3.googleusercontent.com/a-/AAuE7mA06b2KEfgpAIC1tQCip2ka2KqXrCY2GfWW9Fww=s64",
      "userId": "01167841530696023488"
     },
     "user_tz": -330
    },
    "id": "enwfCDn9SUDm",
    "outputId": "4e4176bd-eee9-406f-d0fc-c495822e408c"
   },
   "outputs": [
    {
     "data": {
      "text/html": [
       "<div>\n",
       "<style scoped>\n",
       "    .dataframe tbody tr th:only-of-type {\n",
       "        vertical-align: middle;\n",
       "    }\n",
       "\n",
       "    .dataframe tbody tr th {\n",
       "        vertical-align: top;\n",
       "    }\n",
       "\n",
       "    .dataframe thead th {\n",
       "        text-align: right;\n",
       "    }\n",
       "</style>\n",
       "<table border=\"1\" class=\"dataframe\">\n",
       "  <thead>\n",
       "    <tr style=\"text-align: right;\">\n",
       "      <th></th>\n",
       "      <th>Sale_Price</th>\n",
       "      <th>No of Bedrooms</th>\n",
       "      <th>No of Bathrooms</th>\n",
       "      <th>Flat Area (in Sqft)</th>\n",
       "      <th>Lot Area (in Sqft)</th>\n",
       "      <th>No of Floors</th>\n",
       "      <th>No of Times Visited</th>\n",
       "      <th>Overall Grade</th>\n",
       "      <th>Area of the House from Basement (in Sqft)</th>\n",
       "      <th>Basement Area (in Sqft)</th>\n",
       "      <th>...</th>\n",
       "      <th>Waterfront_View_Yes</th>\n",
       "      <th>Zipcode_Group_Zipcode_Group_1</th>\n",
       "      <th>Zipcode_Group_Zipcode_Group_2</th>\n",
       "      <th>Zipcode_Group_Zipcode_Group_3</th>\n",
       "      <th>Zipcode_Group_Zipcode_Group_4</th>\n",
       "      <th>Zipcode_Group_Zipcode_Group_5</th>\n",
       "      <th>Zipcode_Group_Zipcode_Group_6</th>\n",
       "      <th>Zipcode_Group_Zipcode_Group_7</th>\n",
       "      <th>Zipcode_Group_Zipcode_Group_8</th>\n",
       "      <th>Zipcode_Group_Zipcode_Group_9</th>\n",
       "    </tr>\n",
       "  </thead>\n",
       "  <tbody>\n",
       "    <tr>\n",
       "      <th>0</th>\n",
       "      <td>221900.0</td>\n",
       "      <td>3</td>\n",
       "      <td>1.00</td>\n",
       "      <td>1180.0</td>\n",
       "      <td>5650.0</td>\n",
       "      <td>1.0</td>\n",
       "      <td>0</td>\n",
       "      <td>7</td>\n",
       "      <td>1180.0</td>\n",
       "      <td>0</td>\n",
       "      <td>...</td>\n",
       "      <td>0</td>\n",
       "      <td>0</td>\n",
       "      <td>0</td>\n",
       "      <td>0</td>\n",
       "      <td>0</td>\n",
       "      <td>0</td>\n",
       "      <td>0</td>\n",
       "      <td>0</td>\n",
       "      <td>0</td>\n",
       "      <td>0</td>\n",
       "    </tr>\n",
       "    <tr>\n",
       "      <th>1</th>\n",
       "      <td>538000.0</td>\n",
       "      <td>3</td>\n",
       "      <td>2.25</td>\n",
       "      <td>2570.0</td>\n",
       "      <td>7242.0</td>\n",
       "      <td>2.0</td>\n",
       "      <td>0</td>\n",
       "      <td>7</td>\n",
       "      <td>2170.0</td>\n",
       "      <td>400</td>\n",
       "      <td>...</td>\n",
       "      <td>0</td>\n",
       "      <td>0</td>\n",
       "      <td>1</td>\n",
       "      <td>0</td>\n",
       "      <td>0</td>\n",
       "      <td>0</td>\n",
       "      <td>0</td>\n",
       "      <td>0</td>\n",
       "      <td>0</td>\n",
       "      <td>0</td>\n",
       "    </tr>\n",
       "    <tr>\n",
       "      <th>2</th>\n",
       "      <td>180000.0</td>\n",
       "      <td>2</td>\n",
       "      <td>1.00</td>\n",
       "      <td>770.0</td>\n",
       "      <td>10000.0</td>\n",
       "      <td>1.0</td>\n",
       "      <td>0</td>\n",
       "      <td>6</td>\n",
       "      <td>770.0</td>\n",
       "      <td>0</td>\n",
       "      <td>...</td>\n",
       "      <td>0</td>\n",
       "      <td>0</td>\n",
       "      <td>1</td>\n",
       "      <td>0</td>\n",
       "      <td>0</td>\n",
       "      <td>0</td>\n",
       "      <td>0</td>\n",
       "      <td>0</td>\n",
       "      <td>0</td>\n",
       "      <td>0</td>\n",
       "    </tr>\n",
       "    <tr>\n",
       "      <th>3</th>\n",
       "      <td>604000.0</td>\n",
       "      <td>4</td>\n",
       "      <td>3.00</td>\n",
       "      <td>1960.0</td>\n",
       "      <td>5000.0</td>\n",
       "      <td>1.0</td>\n",
       "      <td>0</td>\n",
       "      <td>7</td>\n",
       "      <td>1050.0</td>\n",
       "      <td>910</td>\n",
       "      <td>...</td>\n",
       "      <td>0</td>\n",
       "      <td>0</td>\n",
       "      <td>0</td>\n",
       "      <td>1</td>\n",
       "      <td>0</td>\n",
       "      <td>0</td>\n",
       "      <td>0</td>\n",
       "      <td>0</td>\n",
       "      <td>0</td>\n",
       "      <td>0</td>\n",
       "    </tr>\n",
       "    <tr>\n",
       "      <th>4</th>\n",
       "      <td>510000.0</td>\n",
       "      <td>3</td>\n",
       "      <td>2.00</td>\n",
       "      <td>1680.0</td>\n",
       "      <td>8080.0</td>\n",
       "      <td>1.0</td>\n",
       "      <td>0</td>\n",
       "      <td>8</td>\n",
       "      <td>1680.0</td>\n",
       "      <td>0</td>\n",
       "      <td>...</td>\n",
       "      <td>0</td>\n",
       "      <td>0</td>\n",
       "      <td>0</td>\n",
       "      <td>0</td>\n",
       "      <td>1</td>\n",
       "      <td>0</td>\n",
       "      <td>0</td>\n",
       "      <td>0</td>\n",
       "      <td>0</td>\n",
       "      <td>0</td>\n",
       "    </tr>\n",
       "  </tbody>\n",
       "</table>\n",
       "<p>5 rows × 31 columns</p>\n",
       "</div>"
      ],
      "text/plain": [
       "   Sale_Price  No of Bedrooms  No of Bathrooms  Flat Area (in Sqft)  \\\n",
       "0    221900.0               3             1.00               1180.0   \n",
       "1    538000.0               3             2.25               2570.0   \n",
       "2    180000.0               2             1.00                770.0   \n",
       "3    604000.0               4             3.00               1960.0   \n",
       "4    510000.0               3             2.00               1680.0   \n",
       "\n",
       "   Lot Area (in Sqft)  No of Floors  No of Times Visited  Overall Grade  \\\n",
       "0              5650.0           1.0                    0              7   \n",
       "1              7242.0           2.0                    0              7   \n",
       "2             10000.0           1.0                    0              6   \n",
       "3              5000.0           1.0                    0              7   \n",
       "4              8080.0           1.0                    0              8   \n",
       "\n",
       "   Area of the House from Basement (in Sqft)  Basement Area (in Sqft)  ...  \\\n",
       "0                                     1180.0                        0  ...   \n",
       "1                                     2170.0                      400  ...   \n",
       "2                                      770.0                        0  ...   \n",
       "3                                     1050.0                      910  ...   \n",
       "4                                     1680.0                        0  ...   \n",
       "\n",
       "   Waterfront_View_Yes  Zipcode_Group_Zipcode_Group_1  \\\n",
       "0                    0                              0   \n",
       "1                    0                              0   \n",
       "2                    0                              0   \n",
       "3                    0                              0   \n",
       "4                    0                              0   \n",
       "\n",
       "   Zipcode_Group_Zipcode_Group_2  Zipcode_Group_Zipcode_Group_3  \\\n",
       "0                              0                              0   \n",
       "1                              1                              0   \n",
       "2                              1                              0   \n",
       "3                              0                              1   \n",
       "4                              0                              0   \n",
       "\n",
       "   Zipcode_Group_Zipcode_Group_4  Zipcode_Group_Zipcode_Group_5  \\\n",
       "0                              0                              0   \n",
       "1                              0                              0   \n",
       "2                              0                              0   \n",
       "3                              0                              0   \n",
       "4                              1                              0   \n",
       "\n",
       "   Zipcode_Group_Zipcode_Group_6  Zipcode_Group_Zipcode_Group_7  \\\n",
       "0                              0                              0   \n",
       "1                              0                              0   \n",
       "2                              0                              0   \n",
       "3                              0                              0   \n",
       "4                              0                              0   \n",
       "\n",
       "   Zipcode_Group_Zipcode_Group_8  Zipcode_Group_Zipcode_Group_9  \n",
       "0                              0                              0  \n",
       "1                              0                              0  \n",
       "2                              0                              0  \n",
       "3                              0                              0  \n",
       "4                              0                              0  \n",
       "\n",
       "[5 rows x 31 columns]"
      ]
     },
     "execution_count": 2,
     "metadata": {},
     "output_type": "execute_result"
    }
   ],
   "source": [
    "data = pd.read_csv('Transformed_Housing_Data2.csv')\n",
    "data.head()"
   ]
  },
  {
   "cell_type": "markdown",
   "metadata": {
    "colab_type": "text",
    "id": "xvkHzrYordIB"
   },
   "source": [
    "## Scaling the dataset"
   ]
  },
  {
   "cell_type": "code",
   "execution_count": 3,
   "metadata": {
    "colab": {
     "base_uri": "https://localhost:8080/",
     "height": 326
    },
    "colab_type": "code",
    "executionInfo": {
     "elapsed": 3660,
     "status": "ok",
     "timestamp": 1573107360294,
     "user": {
      "displayName": "Sharoon Saxena",
      "photoUrl": "https://lh3.googleusercontent.com/a-/AAuE7mA06b2KEfgpAIC1tQCip2ka2KqXrCY2GfWW9Fww=s64",
      "userId": "01167841530696023488"
     },
     "user_tz": -330
    },
    "id": "DdK6-a5wkn0q",
    "outputId": "f0ecad29-ae1b-44e9-881d-774688dea9ab"
   },
   "outputs": [
    {
     "data": {
      "text/html": [
       "<div>\n",
       "<style scoped>\n",
       "    .dataframe tbody tr th:only-of-type {\n",
       "        vertical-align: middle;\n",
       "    }\n",
       "\n",
       "    .dataframe tbody tr th {\n",
       "        vertical-align: top;\n",
       "    }\n",
       "\n",
       "    .dataframe thead th {\n",
       "        text-align: right;\n",
       "    }\n",
       "</style>\n",
       "<table border=\"1\" class=\"dataframe\">\n",
       "  <thead>\n",
       "    <tr style=\"text-align: right;\">\n",
       "      <th></th>\n",
       "      <th>No of Bedrooms</th>\n",
       "      <th>No of Bathrooms</th>\n",
       "      <th>Flat Area (in Sqft)</th>\n",
       "      <th>Lot Area (in Sqft)</th>\n",
       "      <th>No of Floors</th>\n",
       "      <th>No of Times Visited</th>\n",
       "      <th>Overall Grade</th>\n",
       "      <th>Area of the House from Basement (in Sqft)</th>\n",
       "      <th>Basement Area (in Sqft)</th>\n",
       "      <th>Age of House (in Years)</th>\n",
       "      <th>...</th>\n",
       "      <th>Waterfront_View_Yes</th>\n",
       "      <th>Zipcode_Group_Zipcode_Group_1</th>\n",
       "      <th>Zipcode_Group_Zipcode_Group_2</th>\n",
       "      <th>Zipcode_Group_Zipcode_Group_3</th>\n",
       "      <th>Zipcode_Group_Zipcode_Group_4</th>\n",
       "      <th>Zipcode_Group_Zipcode_Group_5</th>\n",
       "      <th>Zipcode_Group_Zipcode_Group_6</th>\n",
       "      <th>Zipcode_Group_Zipcode_Group_7</th>\n",
       "      <th>Zipcode_Group_Zipcode_Group_8</th>\n",
       "      <th>Zipcode_Group_Zipcode_Group_9</th>\n",
       "    </tr>\n",
       "  </thead>\n",
       "  <tbody>\n",
       "    <tr>\n",
       "      <th>count</th>\n",
       "      <td>2.160900e+04</td>\n",
       "      <td>2.160900e+04</td>\n",
       "      <td>2.160900e+04</td>\n",
       "      <td>2.160900e+04</td>\n",
       "      <td>2.160900e+04</td>\n",
       "      <td>2.160900e+04</td>\n",
       "      <td>2.160900e+04</td>\n",
       "      <td>2.160900e+04</td>\n",
       "      <td>2.160900e+04</td>\n",
       "      <td>2.160900e+04</td>\n",
       "      <td>...</td>\n",
       "      <td>2.160900e+04</td>\n",
       "      <td>2.160900e+04</td>\n",
       "      <td>2.160900e+04</td>\n",
       "      <td>2.160900e+04</td>\n",
       "      <td>2.160900e+04</td>\n",
       "      <td>2.160900e+04</td>\n",
       "      <td>2.160900e+04</td>\n",
       "      <td>2.160900e+04</td>\n",
       "      <td>2.160900e+04</td>\n",
       "      <td>2.160900e+04</td>\n",
       "    </tr>\n",
       "    <tr>\n",
       "      <th>mean</th>\n",
       "      <td>-1.525643e-15</td>\n",
       "      <td>7.276618e-15</td>\n",
       "      <td>-3.279856e-16</td>\n",
       "      <td>3.559737e-16</td>\n",
       "      <td>-3.124582e-15</td>\n",
       "      <td>-7.983495e-16</td>\n",
       "      <td>-9.530172e-16</td>\n",
       "      <td>-3.586428e-16</td>\n",
       "      <td>1.320245e-15</td>\n",
       "      <td>-4.283481e-15</td>\n",
       "      <td>...</td>\n",
       "      <td>1.411943e-15</td>\n",
       "      <td>-7.588348e-16</td>\n",
       "      <td>4.332228e-16</td>\n",
       "      <td>6.987258e-15</td>\n",
       "      <td>4.445804e-15</td>\n",
       "      <td>-4.865735e-17</td>\n",
       "      <td>3.863030e-15</td>\n",
       "      <td>-1.265786e-15</td>\n",
       "      <td>1.342556e-15</td>\n",
       "      <td>2.954101e-15</td>\n",
       "    </tr>\n",
       "    <tr>\n",
       "      <th>std</th>\n",
       "      <td>1.000023e+00</td>\n",
       "      <td>1.000023e+00</td>\n",
       "      <td>1.000023e+00</td>\n",
       "      <td>1.000023e+00</td>\n",
       "      <td>1.000023e+00</td>\n",
       "      <td>1.000023e+00</td>\n",
       "      <td>1.000023e+00</td>\n",
       "      <td>1.000023e+00</td>\n",
       "      <td>1.000023e+00</td>\n",
       "      <td>1.000023e+00</td>\n",
       "      <td>...</td>\n",
       "      <td>1.000023e+00</td>\n",
       "      <td>1.000023e+00</td>\n",
       "      <td>1.000023e+00</td>\n",
       "      <td>1.000023e+00</td>\n",
       "      <td>1.000023e+00</td>\n",
       "      <td>1.000023e+00</td>\n",
       "      <td>1.000023e+00</td>\n",
       "      <td>1.000023e+00</td>\n",
       "      <td>1.000023e+00</td>\n",
       "      <td>1.000023e+00</td>\n",
       "    </tr>\n",
       "    <tr>\n",
       "      <th>min</th>\n",
       "      <td>-3.624897e+00</td>\n",
       "      <td>-2.746094e+00</td>\n",
       "      <td>-1.949059e+00</td>\n",
       "      <td>-3.521367e-01</td>\n",
       "      <td>-9.153885e-01</td>\n",
       "      <td>-3.057904e-01</td>\n",
       "      <td>-5.991431e+00</td>\n",
       "      <td>-1.809656e+00</td>\n",
       "      <td>-6.586971e-01</td>\n",
       "      <td>-1.497983e+00</td>\n",
       "      <td>...</td>\n",
       "      <td>-8.718076e-02</td>\n",
       "      <td>-3.504812e-01</td>\n",
       "      <td>-4.821575e-01</td>\n",
       "      <td>-4.195998e-01</td>\n",
       "      <td>-4.790935e-01</td>\n",
       "      <td>-2.140863e-01</td>\n",
       "      <td>-2.877116e-01</td>\n",
       "      <td>-1.122739e-01</td>\n",
       "      <td>-1.688497e-01</td>\n",
       "      <td>-4.815825e-02</td>\n",
       "    </tr>\n",
       "    <tr>\n",
       "      <th>25%</th>\n",
       "      <td>-3.987242e-01</td>\n",
       "      <td>-4.735997e-01</td>\n",
       "      <td>-7.076704e-01</td>\n",
       "      <td>-2.430175e-01</td>\n",
       "      <td>-9.153885e-01</td>\n",
       "      <td>-3.057904e-01</td>\n",
       "      <td>-5.639925e-01</td>\n",
       "      <td>-7.226445e-01</td>\n",
       "      <td>-6.586971e-01</td>\n",
       "      <td>-8.851681e-01</td>\n",
       "      <td>...</td>\n",
       "      <td>-8.718076e-02</td>\n",
       "      <td>-3.504812e-01</td>\n",
       "      <td>-4.821575e-01</td>\n",
       "      <td>-4.195998e-01</td>\n",
       "      <td>-4.790935e-01</td>\n",
       "      <td>-2.140863e-01</td>\n",
       "      <td>-2.877116e-01</td>\n",
       "      <td>-1.122739e-01</td>\n",
       "      <td>-1.688497e-01</td>\n",
       "      <td>-4.815825e-02</td>\n",
       "    </tr>\n",
       "    <tr>\n",
       "      <th>50%</th>\n",
       "      <td>-3.987242e-01</td>\n",
       "      <td>1.756844e-01</td>\n",
       "      <td>-1.849805e-01</td>\n",
       "      <td>-1.807567e-01</td>\n",
       "      <td>1.071432e-02</td>\n",
       "      <td>-3.057904e-01</td>\n",
       "      <td>-5.639925e-01</td>\n",
       "      <td>-2.757621e-01</td>\n",
       "      <td>-6.586971e-01</td>\n",
       "      <td>-1.361717e-01</td>\n",
       "      <td>...</td>\n",
       "      <td>-8.718076e-02</td>\n",
       "      <td>-3.504812e-01</td>\n",
       "      <td>-4.821575e-01</td>\n",
       "      <td>-4.195998e-01</td>\n",
       "      <td>-4.790935e-01</td>\n",
       "      <td>-2.140863e-01</td>\n",
       "      <td>-2.877116e-01</td>\n",
       "      <td>-1.122739e-01</td>\n",
       "      <td>-1.688497e-01</td>\n",
       "      <td>-4.815825e-02</td>\n",
       "    </tr>\n",
       "    <tr>\n",
       "      <th>75%</th>\n",
       "      <td>6.766667e-01</td>\n",
       "      <td>5.003265e-01</td>\n",
       "      <td>5.119393e-01</td>\n",
       "      <td>-1.066908e-01</td>\n",
       "      <td>9.368172e-01</td>\n",
       "      <td>-3.057904e-01</td>\n",
       "      <td>3.405806e-01</td>\n",
       "      <td>5.093014e-01</td>\n",
       "      <td>6.066659e-01</td>\n",
       "      <td>6.809153e-01</td>\n",
       "      <td>...</td>\n",
       "      <td>-8.718076e-02</td>\n",
       "      <td>-3.504812e-01</td>\n",
       "      <td>-4.821575e-01</td>\n",
       "      <td>-4.195998e-01</td>\n",
       "      <td>-4.790935e-01</td>\n",
       "      <td>-2.140863e-01</td>\n",
       "      <td>-2.877116e-01</td>\n",
       "      <td>-1.122739e-01</td>\n",
       "      <td>-1.688497e-01</td>\n",
       "      <td>-4.815825e-02</td>\n",
       "    </tr>\n",
       "    <tr>\n",
       "      <th>max</th>\n",
       "      <td>3.186300e+01</td>\n",
       "      <td>7.642452e+00</td>\n",
       "      <td>1.247936e+01</td>\n",
       "      <td>3.950148e+01</td>\n",
       "      <td>3.715126e+00</td>\n",
       "      <td>4.913661e+00</td>\n",
       "      <td>2.149727e+00</td>\n",
       "      <td>9.205390e+00</td>\n",
       "      <td>1.023246e+01</td>\n",
       "      <td>2.417225e+00</td>\n",
       "      <td>...</td>\n",
       "      <td>1.147042e+01</td>\n",
       "      <td>2.853220e+00</td>\n",
       "      <td>2.074011e+00</td>\n",
       "      <td>2.383223e+00</td>\n",
       "      <td>2.087275e+00</td>\n",
       "      <td>4.671014e+00</td>\n",
       "      <td>3.475703e+00</td>\n",
       "      <td>8.906787e+00</td>\n",
       "      <td>5.922426e+00</td>\n",
       "      <td>2.076487e+01</td>\n",
       "    </tr>\n",
       "  </tbody>\n",
       "</table>\n",
       "<p>8 rows × 30 columns</p>\n",
       "</div>"
      ],
      "text/plain": [
       "       No of Bedrooms  No of Bathrooms  Flat Area (in Sqft)  \\\n",
       "count    2.160900e+04     2.160900e+04         2.160900e+04   \n",
       "mean    -1.525643e-15     7.276618e-15        -3.279856e-16   \n",
       "std      1.000023e+00     1.000023e+00         1.000023e+00   \n",
       "min     -3.624897e+00    -2.746094e+00        -1.949059e+00   \n",
       "25%     -3.987242e-01    -4.735997e-01        -7.076704e-01   \n",
       "50%     -3.987242e-01     1.756844e-01        -1.849805e-01   \n",
       "75%      6.766667e-01     5.003265e-01         5.119393e-01   \n",
       "max      3.186300e+01     7.642452e+00         1.247936e+01   \n",
       "\n",
       "       Lot Area (in Sqft)  No of Floors  No of Times Visited  Overall Grade  \\\n",
       "count        2.160900e+04  2.160900e+04         2.160900e+04   2.160900e+04   \n",
       "mean         3.559737e-16 -3.124582e-15        -7.983495e-16  -9.530172e-16   \n",
       "std          1.000023e+00  1.000023e+00         1.000023e+00   1.000023e+00   \n",
       "min         -3.521367e-01 -9.153885e-01        -3.057904e-01  -5.991431e+00   \n",
       "25%         -2.430175e-01 -9.153885e-01        -3.057904e-01  -5.639925e-01   \n",
       "50%         -1.807567e-01  1.071432e-02        -3.057904e-01  -5.639925e-01   \n",
       "75%         -1.066908e-01  9.368172e-01        -3.057904e-01   3.405806e-01   \n",
       "max          3.950148e+01  3.715126e+00         4.913661e+00   2.149727e+00   \n",
       "\n",
       "       Area of the House from Basement (in Sqft)  Basement Area (in Sqft)  \\\n",
       "count                               2.160900e+04             2.160900e+04   \n",
       "mean                               -3.586428e-16             1.320245e-15   \n",
       "std                                 1.000023e+00             1.000023e+00   \n",
       "min                                -1.809656e+00            -6.586971e-01   \n",
       "25%                                -7.226445e-01            -6.586971e-01   \n",
       "50%                                -2.757621e-01            -6.586971e-01   \n",
       "75%                                 5.093014e-01             6.066659e-01   \n",
       "max                                 9.205390e+00             1.023246e+01   \n",
       "\n",
       "       Age of House (in Years)  ...  Waterfront_View_Yes  \\\n",
       "count             2.160900e+04  ...         2.160900e+04   \n",
       "mean             -4.283481e-15  ...         1.411943e-15   \n",
       "std               1.000023e+00  ...         1.000023e+00   \n",
       "min              -1.497983e+00  ...        -8.718076e-02   \n",
       "25%              -8.851681e-01  ...        -8.718076e-02   \n",
       "50%              -1.361717e-01  ...        -8.718076e-02   \n",
       "75%               6.809153e-01  ...        -8.718076e-02   \n",
       "max               2.417225e+00  ...         1.147042e+01   \n",
       "\n",
       "       Zipcode_Group_Zipcode_Group_1  Zipcode_Group_Zipcode_Group_2  \\\n",
       "count                   2.160900e+04                   2.160900e+04   \n",
       "mean                   -7.588348e-16                   4.332228e-16   \n",
       "std                     1.000023e+00                   1.000023e+00   \n",
       "min                    -3.504812e-01                  -4.821575e-01   \n",
       "25%                    -3.504812e-01                  -4.821575e-01   \n",
       "50%                    -3.504812e-01                  -4.821575e-01   \n",
       "75%                    -3.504812e-01                  -4.821575e-01   \n",
       "max                     2.853220e+00                   2.074011e+00   \n",
       "\n",
       "       Zipcode_Group_Zipcode_Group_3  Zipcode_Group_Zipcode_Group_4  \\\n",
       "count                   2.160900e+04                   2.160900e+04   \n",
       "mean                    6.987258e-15                   4.445804e-15   \n",
       "std                     1.000023e+00                   1.000023e+00   \n",
       "min                    -4.195998e-01                  -4.790935e-01   \n",
       "25%                    -4.195998e-01                  -4.790935e-01   \n",
       "50%                    -4.195998e-01                  -4.790935e-01   \n",
       "75%                    -4.195998e-01                  -4.790935e-01   \n",
       "max                     2.383223e+00                   2.087275e+00   \n",
       "\n",
       "       Zipcode_Group_Zipcode_Group_5  Zipcode_Group_Zipcode_Group_6  \\\n",
       "count                   2.160900e+04                   2.160900e+04   \n",
       "mean                   -4.865735e-17                   3.863030e-15   \n",
       "std                     1.000023e+00                   1.000023e+00   \n",
       "min                    -2.140863e-01                  -2.877116e-01   \n",
       "25%                    -2.140863e-01                  -2.877116e-01   \n",
       "50%                    -2.140863e-01                  -2.877116e-01   \n",
       "75%                    -2.140863e-01                  -2.877116e-01   \n",
       "max                     4.671014e+00                   3.475703e+00   \n",
       "\n",
       "       Zipcode_Group_Zipcode_Group_7  Zipcode_Group_Zipcode_Group_8  \\\n",
       "count                   2.160900e+04                   2.160900e+04   \n",
       "mean                   -1.265786e-15                   1.342556e-15   \n",
       "std                     1.000023e+00                   1.000023e+00   \n",
       "min                    -1.122739e-01                  -1.688497e-01   \n",
       "25%                    -1.122739e-01                  -1.688497e-01   \n",
       "50%                    -1.122739e-01                  -1.688497e-01   \n",
       "75%                    -1.122739e-01                  -1.688497e-01   \n",
       "max                     8.906787e+00                   5.922426e+00   \n",
       "\n",
       "       Zipcode_Group_Zipcode_Group_9  \n",
       "count                   2.160900e+04  \n",
       "mean                    2.954101e-15  \n",
       "std                     1.000023e+00  \n",
       "min                    -4.815825e-02  \n",
       "25%                    -4.815825e-02  \n",
       "50%                    -4.815825e-02  \n",
       "75%                    -4.815825e-02  \n",
       "max                     2.076487e+01  \n",
       "\n",
       "[8 rows x 30 columns]"
      ]
     },
     "execution_count": 3,
     "metadata": {},
     "output_type": "execute_result"
    }
   ],
   "source": [
    "from sklearn.preprocessing import StandardScaler\n",
    "scaler = StandardScaler()\n",
    "Y = data['Sale_Price']\n",
    "X = scaler.fit_transform(data.drop(columns = ['Sale_Price']))\n",
    "X = pd.DataFrame(data = X, columns = data.drop(columns = ['Sale_Price']).columns)\n",
    "X.describe()"
   ]
  },
  {
   "cell_type": "markdown",
   "metadata": {
    "colab_type": "text",
    "id": "2OtqYbES1Ck-"
   },
   "source": [
    "## Train/Test set"
   ]
  },
  {
   "cell_type": "code",
   "execution_count": 4,
   "metadata": {
    "colab": {},
    "colab_type": "code",
    "id": "sDAXk48r0tRn"
   },
   "outputs": [],
   "source": [
    "X = data.drop(columns = [\"Sale_Price\"])\n",
    "Y = data['Sale_Price']"
   ]
  },
  {
   "cell_type": "code",
   "execution_count": 5,
   "metadata": {
    "colab": {
     "base_uri": "https://localhost:8080/",
     "height": 34
    },
    "colab_type": "code",
    "executionInfo": {
     "elapsed": 3327,
     "status": "ok",
     "timestamp": 1573107360847,
     "user": {
      "displayName": "Sharoon Saxena",
      "photoUrl": "https://lh3.googleusercontent.com/a-/AAuE7mA06b2KEfgpAIC1tQCip2ka2KqXrCY2GfWW9Fww=s64",
      "userId": "01167841530696023488"
     },
     "user_tz": -330
    },
    "id": "OnDOTUGt0tRp",
    "outputId": "18879f29-ef2a-4131-9aad-4a325e20abac"
   },
   "outputs": [
    {
     "data": {
      "text/plain": [
       "((15126, 30), (6483, 30), (15126,), (6483,))"
      ]
     },
     "execution_count": 5,
     "metadata": {},
     "output_type": "execute_result"
    }
   ],
   "source": [
    "from sklearn.model_selection import train_test_split\n",
    "x_train, x_test, y_train, y_test = train_test_split(X, Y, test_size = 0.3, random_state = 101)\n",
    "\n",
    "x_train.shape, x_test.shape, y_train.shape, y_test.shape"
   ]
  },
  {
   "cell_type": "markdown",
   "metadata": {
    "colab_type": "text",
    "id": "eUpoopDQsSNr"
   },
   "source": [
    "## Linear Regression"
   ]
  },
  {
   "cell_type": "code",
   "execution_count": 7,
   "metadata": {
    "colab": {
     "base_uri": "https://localhost:8080/",
     "height": 34
    },
    "colab_type": "code",
    "executionInfo": {
     "elapsed": 2520,
     "status": "ok",
     "timestamp": 1573107360848,
     "user": {
      "displayName": "Sharoon Saxena",
      "photoUrl": "https://lh3.googleusercontent.com/a-/AAuE7mA06b2KEfgpAIC1tQCip2ka2KqXrCY2GfWW9Fww=s64",
      "userId": "01167841530696023488"
     },
     "user_tz": -330
    },
    "id": "6Xq14RtASUDu",
    "outputId": "b72d367c-4f72-4c64-b3d6-80662af44a43"
   },
   "outputs": [
    {
     "data": {
      "text/plain": [
       "LinearRegression(normalize=True)"
      ]
     },
     "execution_count": 7,
     "metadata": {},
     "output_type": "execute_result"
    }
   ],
   "source": [
    "from sklearn.linear_model import LinearRegression\n",
    "lr = LinearRegression(normalize = True)\n",
    "lr.fit(x_train, y_train)\n"
   ]
  },
  {
   "cell_type": "code",
   "execution_count": 8,
   "metadata": {
    "colab": {},
    "colab_type": "code",
    "id": "Y0q4O7K0SUDw"
   },
   "outputs": [],
   "source": [
    "predictions = lr.predict(x_test)"
   ]
  },
  {
   "cell_type": "code",
   "execution_count": 9,
   "metadata": {
    "colab": {
     "base_uri": "https://localhost:8080/",
     "height": 34
    },
    "colab_type": "code",
    "executionInfo": {
     "elapsed": 2343,
     "status": "ok",
     "timestamp": 1573107360851,
     "user": {
      "displayName": "Sharoon Saxena",
      "photoUrl": "https://lh3.googleusercontent.com/a-/AAuE7mA06b2KEfgpAIC1tQCip2ka2KqXrCY2GfWW9Fww=s64",
      "userId": "01167841530696023488"
     },
     "user_tz": -330
    },
    "id": "-w3xX9opSUDx",
    "outputId": "112bba16-9aaa-41a6-dcb4-b28da8c71312"
   },
   "outputs": [
    {
     "data": {
      "text/plain": [
       "0.8462355542468778"
      ]
     },
     "execution_count": 9,
     "metadata": {},
     "output_type": "execute_result"
    }
   ],
   "source": [
    "lr.score(x_test, y_test)"
   ]
  },
  {
   "cell_type": "markdown",
   "metadata": {
    "colab_type": "text",
    "id": "MiR4wLQQRtXx"
   },
   "source": [
    "# Forward selection"
   ]
  },
  {
   "cell_type": "code",
   "execution_count": 10,
   "metadata": {
    "colab": {},
    "colab_type": "code",
    "id": "eZY8G0sxIuWW"
   },
   "outputs": [],
   "source": [
    "def adj_r2( m ,data_y, predictions):\n",
    "  '''\n",
    "  m : number of independent variables\n",
    "  data_y : target variable\n",
    "  predictions : prediction of the model to be evaluated\n",
    "\n",
    "  Returns: Adjusted R2\n",
    "  '''\n",
    "  from sklearn.metrics import r2_score\n",
    "  R = r2_score(data_y, predictions)\n",
    "  n = len(data_y)\n",
    "  adj_R = 1 - ((1-R)*(n-1))/(n-m-1)\n",
    "  return adj_R"
   ]
  },
  {
   "cell_type": "code",
   "execution_count": 11,
   "metadata": {
    "colab": {},
    "colab_type": "code",
    "id": "QhC92CJBGfEo"
   },
   "outputs": [],
   "source": [
    "def return_r2(X, Y, model):\n",
    "  '''\n",
    "  X : independent variables\n",
    "  Y : target variable\n",
    "  model : predictive model\n",
    "\n",
    "  Returns: Adjusted R2 corresponding to the model\n",
    "  '''\n",
    "  model.fit(X, Y)\n",
    "  pred = model.predict(X)\n",
    "  m = len(X.columns)\n",
    "  r2 = adj_r2(m, Y, pred)\n",
    "  return r2"
   ]
  },
  {
   "cell_type": "markdown",
   "metadata": {
    "colab_type": "text",
    "id": "1SGp5vtDjzsk"
   },
   "source": [
    "### Forward selection with bug"
   ]
  },
  {
   "cell_type": "code",
   "execution_count": 12,
   "metadata": {
    "colab": {},
    "colab_type": "code",
    "id": "uY2wMFsCOE9b"
   },
   "outputs": [],
   "source": [
    "def forward_selection(model, X, Y, max_features):\n",
    "  '''\n",
    "  X : independent variables\n",
    "  Y : target variable\n",
    "  model : predictive model\n",
    "  max_features : selects best feature upto max_features value\n",
    "\n",
    "  Returns: \n",
    "  Rmax : Adjusted R2 of the final model\n",
    "  history : list of Rmax at every new independent variable added to the model\n",
    "  x[f_col] : best features upto max_features\n",
    "  '''\n",
    "  \n",
    "  f_col = []\n",
    "  history = []\n",
    "  \n",
    "  for i in range(max_features):\n",
    "    #k = f_col[:]\n",
    "    #print(k)\n",
    "    f_col.append('blank')\n",
    "    tmp = f_col[:]\n",
    "    Rmax = -1\n",
    "\n",
    "    for var in X.columns:\n",
    "      tmp[-1] = var\n",
    "      r2 = return_r2( X[tmp] , Y, model)\n",
    "      if r2 >= Rmax:\n",
    "        Rmax = r2\n",
    "        f_col[-1] = var\n",
    "        elim = var\n",
    "  \n",
    "    print(\"Selected\",f_col[-1],\"with new r2 =\",Rmax)\n",
    "    history.append(Rmax)\n",
    "\n",
    "  return Rmax, history, X[f_col]"
   ]
  },
  {
   "cell_type": "code",
   "execution_count": null,
   "metadata": {},
   "outputs": [],
   "source": []
  },
  {
   "cell_type": "code",
   "execution_count": 13,
   "metadata": {
    "colab": {
     "base_uri": "https://localhost:8080/",
     "height": 102
    },
    "colab_type": "code",
    "executionInfo": {
     "elapsed": 3248,
     "status": "ok",
     "timestamp": 1573107362073,
     "user": {
      "displayName": "Sharoon Saxena",
      "photoUrl": "https://lh3.googleusercontent.com/a-/AAuE7mA06b2KEfgpAIC1tQCip2ka2KqXrCY2GfWW9Fww=s64",
      "userId": "01167841530696023488"
     },
     "user_tz": -330
    },
    "id": "5riQeyi5O37B",
    "outputId": "1a580d8c-9c58-4c6a-ff2c-ca3822153a5f"
   },
   "outputs": [
    {
     "name": "stdout",
     "output_type": "stream",
     "text": [
      "Selected Flat Area (in Sqft) with new r2 = 0.4825106645259518\n",
      "Selected Latitude with new r2 = 0.6158682713046579\n",
      "Selected Overall Grade with new r2 = 0.6693250844517911\n",
      "Selected Age of House (in Years) with new r2 = 0.7101671809322653\n",
      "Selected Zipcode_Group_Zipcode_Group_8 with new r2 = 0.735965980189696\n",
      "Selected Zipcode_Group_Zipcode_Group_6 with new r2 = 0.7513359472574557\n",
      "Selected No of Times Visited with new r2 = 0.7665054219574295\n",
      "Selected Zipcode_Group_Zipcode_Group_4 with new r2 = 0.7765839357842506\n",
      "Selected Zipcode_Group_Zipcode_Group_7 with new r2 = 0.7867385851118126\n",
      "Selected Zipcode_Group_Zipcode_Group_3 with new r2 = 0.7966330954041452\n",
      "Selected Zipcode_Group_Zipcode_Group_5 with new r2 = 0.8135013723628122\n",
      "Selected Zipcode_Group_Zipcode_Group_9 with new r2 = 0.8192910381878413\n",
      "Selected Zipcode_Group_Zipcode_Group_2 with new r2 = 0.82429217078267\n",
      "Selected Longitude with new r2 = 0.8266049066242158\n",
      "Selected Basement Area (in Sqft) with new r2 = 0.8295620645811876\n",
      "Selected Condition_of_the_House_Excellent with new r2 = 0.8318506623682477\n",
      "Selected Lot Area (in Sqft) with new r2 = 0.8339600690154836\n",
      "Selected Zipcode_Group_Zipcode_Group_1 with new r2 = 0.8356698063157928\n",
      "Selected Waterfront_View_Yes with new r2 = 0.8371253089016231\n",
      "Selected Living Area after Renovation (in Sqft) with new r2 = 0.8384257980145962\n",
      "Selected No of Bathrooms with new r2 = 0.8394089149738739\n",
      "Selected Ever_Renovated_Yes with new r2 = 0.8399491254999182\n",
      "Selected Years Since Renovation with new r2 = 0.8404605503169835\n",
      "Selected Condition_of_the_House_Good with new r2 = 0.8407704362899256\n",
      "Selected Condition_of_the_House_Fair with new r2 = 0.8409159992800564\n",
      "Selected No of Bedrooms with new r2 = 0.8410610037918913\n",
      "Selected Lot Area after Renovation (in Sqft) with new r2 = 0.8411171250786781\n",
      "Selected No of Floors with new r2 = 0.8411623663620638\n",
      "Selected Condition_of_the_House_Okay with new r2 = 0.8411797446658431\n",
      "Selected Area of the House from Basement (in Sqft) with new r2 = 0.8411713183817104\n"
     ]
    }
   ],
   "source": [
    "from sklearn.linear_model import LinearRegression\n",
    "lr = LinearRegression(normalize = True)\n",
    "\n",
    "# calculating time taken\n",
    "tick = time.time()\n",
    "score, history, sel_data = forward_selection(lr, x_train, y_train, 30)\n",
    "tock = time.time()\n"
   ]
  },
  {
   "cell_type": "code",
   "execution_count": 14,
   "metadata": {
    "colab": {},
    "colab_type": "code",
    "id": "wzWwAO2pjzsw",
    "outputId": "0442e0a3-35db-415b-a5b8-803bcac7d90a"
   },
   "outputs": [
    {
     "name": "stdout",
     "output_type": "stream",
     "text": [
      "time take to complete forward selesction with bug: 23.058855772018433\n"
     ]
    }
   ],
   "source": [
    "print('time take to complete forward selesction with bug:', tock-tick)"
   ]
  },
  {
   "cell_type": "markdown",
   "metadata": {
    "colab_type": "text",
    "id": "oU93af1ajzs2"
   },
   "source": [
    "### Forward Selection without bug"
   ]
  },
  {
   "cell_type": "code",
   "execution_count": 15,
   "metadata": {
    "colab": {},
    "colab_type": "code",
    "id": "Tdgv86NVjzs3"
   },
   "outputs": [],
   "source": [
    "def forward_selection(model, X, Y, max_features):\n",
    "  '''\n",
    "  X : independent variables\n",
    "  Y : target variable\n",
    "  model : predictive model\n",
    "  max_features : selects best feature upto max_features value\n",
    "\n",
    "  Returns: \n",
    "  Rmax : Adjusted R2 of the final model\n",
    "  history : list of Rmax at every new independent variable added to the model\n",
    "  x[f_col] : best features upto max_features\n",
    "  '''\n",
    "  f_col = []\n",
    "  history = []\n",
    "  \n",
    "  for i in range(max_features):\n",
    "    k = f_col[:]\n",
    "    #print(k)\n",
    "    f_col.append('blank')\n",
    "    tmp = f_col[:]\n",
    "    Rmax = -1\n",
    "\n",
    "    for var in X.drop(columns = k).columns:\n",
    "      tmp[-1] = var\n",
    "      r2 = return_r2( X[tmp] , Y, model)\n",
    "      if r2 >= Rmax:\n",
    "        Rmax = r2\n",
    "        f_col[-1] = var\n",
    "        elim = var\n",
    "  \n",
    "    print(\"Selected\",f_col[-1],\"with new r2 =\",Rmax)\n",
    "    history.append(Rmax)\n",
    "\n",
    "  return Rmax, history, X[f_col]\n"
   ]
  },
  {
   "cell_type": "code",
   "execution_count": 17,
   "metadata": {
    "colab": {},
    "colab_type": "code",
    "id": "ICXynpUpjzs8",
    "outputId": "9473256b-9918-4db4-f0af-0e072c41f7b1"
   },
   "outputs": [
    {
     "name": "stdout",
     "output_type": "stream",
     "text": [
      "Selected Flat Area (in Sqft) with new r2 = 0.4825106645259518\n",
      "Selected Latitude with new r2 = 0.6158682713046579\n",
      "Selected Overall Grade with new r2 = 0.6693250844517911\n",
      "Selected Age of House (in Years) with new r2 = 0.7101671809322653\n",
      "Selected Zipcode_Group_Zipcode_Group_8 with new r2 = 0.735965980189696\n",
      "Selected Zipcode_Group_Zipcode_Group_6 with new r2 = 0.7513359472574557\n",
      "Selected No of Times Visited with new r2 = 0.7665054219574295\n",
      "Selected Zipcode_Group_Zipcode_Group_4 with new r2 = 0.7765839357842506\n",
      "Selected Zipcode_Group_Zipcode_Group_7 with new r2 = 0.7867385851118126\n",
      "Selected Zipcode_Group_Zipcode_Group_3 with new r2 = 0.7966330954041452\n",
      "Selected Zipcode_Group_Zipcode_Group_5 with new r2 = 0.8135013723628122\n",
      "Selected Zipcode_Group_Zipcode_Group_9 with new r2 = 0.8192910381878413\n",
      "Selected Zipcode_Group_Zipcode_Group_2 with new r2 = 0.82429217078267\n",
      "Selected Longitude with new r2 = 0.8266049066242158\n",
      "Selected Basement Area (in Sqft) with new r2 = 0.8295620645811876\n",
      "Selected Condition_of_the_House_Excellent with new r2 = 0.8318506623682477\n",
      "Selected Lot Area (in Sqft) with new r2 = 0.8339600690154836\n",
      "Selected Zipcode_Group_Zipcode_Group_1 with new r2 = 0.8356698063157928\n",
      "Selected Waterfront_View_Yes with new r2 = 0.8371253089016231\n",
      "Selected Living Area after Renovation (in Sqft) with new r2 = 0.8384257980145962\n",
      "Selected No of Bathrooms with new r2 = 0.8394089149738739\n",
      "Selected Ever_Renovated_Yes with new r2 = 0.8399491254999182\n",
      "Selected Years Since Renovation with new r2 = 0.8404605503169835\n",
      "Selected Condition_of_the_House_Good with new r2 = 0.8407704362899256\n",
      "Selected Condition_of_the_House_Fair with new r2 = 0.8409159992800564\n",
      "Selected No of Bedrooms with new r2 = 0.8410610037918913\n",
      "Selected Lot Area after Renovation (in Sqft) with new r2 = 0.8411171250786781\n",
      "Selected No of Floors with new r2 = 0.8411623663620638\n",
      "Selected Condition_of_the_House_Okay with new r2 = 0.8411797446658431\n",
      "Selected Area of the House from Basement (in Sqft) with new r2 = 0.8411713183817104\n"
     ]
    }
   ],
   "source": [
    "from sklearn.linear_model import LinearRegression\n",
    "lr = LinearRegression(normalize = True)\n",
    "\n",
    "# calculating time taken\n",
    "tick = time.time()\n",
    "score, history, sel_data = forward_selection(lr, x_train, y_train, 30\n",
    "                                            )\n",
    "tock = time.time()"
   ]
  },
  {
   "cell_type": "code",
   "execution_count": null,
   "metadata": {
    "colab": {},
    "colab_type": "code",
    "id": "8sIlWZGBjztA",
    "outputId": "21db89ed-7f75-4f18-c3cc-06219f6971f9"
   },
   "outputs": [],
   "source": [
    "#print('time take to complete forward selection with bug:', tock-tick)"
   ]
  },
  {
   "cell_type": "markdown",
   "metadata": {
    "colab_type": "text",
    "id": "yKmE6Wt7jztF"
   },
   "source": [
    "## Conclusion\n",
    "After removing the bug we can clearly see that the time taken to run the forward selection was reduced by the factor of 2.5 times. Which is a very significant drop in the runtime."
   ]
  },
  {
   "cell_type": "code",
   "execution_count": null,
   "metadata": {
    "colab": {},
    "colab_type": "code",
    "id": "xMW4ioXcjztG"
   },
   "outputs": [],
   "source": []
  }
 ],
 "metadata": {
  "colab": {
   "collapsed_sections": [],
   "machine_shape": "hm",
   "name": "Forward selection bug.ipynb (1).ipynb",
   "provenance": [],
   "toc_visible": true
  },
  "kernelspec": {
   "display_name": "Python 3",
   "language": "python",
   "name": "python3"
  },
  "language_info": {
   "codemirror_mode": {
    "name": "ipython",
    "version": 3
   },
   "file_extension": ".py",
   "mimetype": "text/x-python",
   "name": "python",
   "nbconvert_exporter": "python",
   "pygments_lexer": "ipython3",
   "version": "3.8.8"
  }
 },
 "nbformat": 4,
 "nbformat_minor": 1
}
